{
 "cells": [
  {
   "cell_type": "code",
   "execution_count": 3,
   "id": "5c72640c",
   "metadata": {},
   "outputs": [],
   "source": [
    "import pandas as pd"
   ]
  },
  {
   "cell_type": "code",
   "execution_count": 2,
   "id": "4bd87b64",
   "metadata": {},
   "outputs": [],
   "source": [
    "soup = {\"response\":{\"header\":{\"resultCode\":\"00\",\"resultMsg\":\"NORMAL_CODE\"},\"body\":{\"items\":{\"item\":[{\"freqocZoneVer\":\"2021090301\",\"freqocZoneId\":\"1111000001\",\"freqocZoneNm\":\"카페베네\",\"signguCode\":\"11110\",\"signguNm\":\"서울특별시 종로구\",\"acdntCo\":13,\"centerX\":\"126.972632\",\"centerY\":\"37.575903\",\"zoneRds\":40},{\"freqocZoneVer\":\"2021090301\",\"freqocZoneId\":\"1111000002\",\"freqocZoneNm\":\"GS칼텍스중앙주유소\",\"signguCode\":\"11110\",\"signguNm\":\"서울특별시 종로구\",\"acdntCo\":3,\"centerX\":\"127.023059\",\"centerY\":\"37.578110\",\"zoneRds\":40},{\"freqocZoneVer\":\"2021090301\",\"freqocZoneId\":\"1111000003\",\"freqocZoneNm\":\"서울종로경찰서세검정파출소\",\"signguCode\":\"11110\",\"signguNm\":\"서울특별시 종로구\",\"acdntCo\":4,\"centerX\":\"126.958451\",\"centerY\":\"37.599779\",\"zoneRds\":40},{\"freqocZoneVer\":\"2021090301\",\"freqocZoneId\":\"1111000004\",\"freqocZoneNm\":\"청계천대성스카이렉스1입구\",\"signguCode\":\"11110\",\"signguNm\":\"서울특별시 종로구\",\"acdntCo\":8,\"centerX\":\"127.023405\",\"centerY\":\"37.571802\",\"zoneRds\":40},{\"freqocZoneVer\":\"2021090301\",\"freqocZoneId\":\"1111000005\",\"freqocZoneNm\":\"동양빌딩입구\",\"signguCode\":\"11110\",\"signguNm\":\"서울특별시 종로구\",\"acdntCo\":3,\"centerX\":\"126.969164\",\"centerY\":\"37.568326\",\"zoneRds\":40},{\"freqocZoneVer\":\"2021090301\",\"freqocZoneId\":\"1111000006\",\"freqocZoneNm\":\"충신동\",\"signguCode\":\"11110\",\"signguNm\":\"서울특별시 종로구\",\"acdntCo\":4,\"centerX\":\"127.006619\",\"centerY\":\"37.574140\",\"zoneRds\":40},{\"freqocZoneVer\":\"2021090301\",\"freqocZoneId\":\"1111000007\",\"freqocZoneNm\":\"안국역5번출입구\",\"signguCode\":\"11110\",\"signguNm\":\"서울특별시 종로구\",\"acdntCo\":5,\"centerX\":\"126.986318\",\"centerY\":\"37.576793\",\"zoneRds\":40},{\"freqocZoneVer\":\"2021090301\",\"freqocZoneId\":\"1111000008\",\"freqocZoneNm\":\"스타벅스\",\"signguCode\":\"11110\",\"signguNm\":\"서울특별시 종로구\",\"acdntCo\":4,\"centerX\":\"126.978415\",\"centerY\":\"37.570016\",\"zoneRds\":40},{\"freqocZoneVer\":\"2021090301\",\"freqocZoneId\":\"1111000009\",\"freqocZoneNm\":\"광덕인테리어\",\"signguCode\":\"11110\",\"signguNm\":\"서울특별시 종로구\",\"acdntCo\":9,\"centerX\":\"127.008066\",\"centerY\":\"37.571081\",\"zoneRds\":40},{\"freqocZoneVer\":\"2021090301\",\"freqocZoneId\":\"1111000010\",\"freqocZoneNm\":\"탑골공원화장실\",\"signguCode\":\"11110\",\"signguNm\":\"서울특별시 종로구\",\"acdntCo\":6,\"centerX\":\"126.987880\",\"centerY\":\"37.570319\",\"zoneRds\":40}]},\"totalCount\":22,\"numOfRows\":10,\"pageNo\":1}}}"
   ]
  },
  {
   "cell_type": "code",
   "execution_count": 26,
   "id": "b28de804",
   "metadata": {},
   "outputs": [
    {
     "data": {
      "text/plain": [
       "'11110'"
      ]
     },
     "execution_count": 26,
     "metadata": {},
     "output_type": "execute_result"
    }
   ],
   "source": [
    "soup['response']['body']['items']['item'][1]['signguCode']"
   ]
  },
  {
   "cell_type": "code",
   "execution_count": 24,
   "id": "10c8a093",
   "metadata": {
    "scrolled": false
   },
   "outputs": [
    {
     "data": {
      "text/plain": [
       "{'response': {'header': {'resultCode': '00', 'resultMsg': 'NORMAL_CODE'},\n",
       "  'body': {'items': {'item': [{'freqocZoneVer': '2021090301',\n",
       "      'freqocZoneId': '1111000001',\n",
       "      'freqocZoneNm': '카페베네',\n",
       "      'signguCode': '11110',\n",
       "      'signguNm': '서울특별시 종로구',\n",
       "      'acdntCo': 13,\n",
       "      'centerX': '126.972632',\n",
       "      'centerY': '37.575903',\n",
       "      'zoneRds': 40},\n",
       "     {'freqocZoneVer': '2021090301',\n",
       "      'freqocZoneId': '1111000002',\n",
       "      'freqocZoneNm': 'GS칼텍스중앙주유소',\n",
       "      'signguCode': '11110',\n",
       "      'signguNm': '서울특별시 종로구',\n",
       "      'acdntCo': 3,\n",
       "      'centerX': '127.023059',\n",
       "      'centerY': '37.578110',\n",
       "      'zoneRds': 40},\n",
       "     {'freqocZoneVer': '2021090301',\n",
       "      'freqocZoneId': '1111000003',\n",
       "      'freqocZoneNm': '서울종로경찰서세검정파출소',\n",
       "      'signguCode': '11110',\n",
       "      'signguNm': '서울특별시 종로구',\n",
       "      'acdntCo': 4,\n",
       "      'centerX': '126.958451',\n",
       "      'centerY': '37.599779',\n",
       "      'zoneRds': 40},\n",
       "     {'freqocZoneVer': '2021090301',\n",
       "      'freqocZoneId': '1111000004',\n",
       "      'freqocZoneNm': '청계천대성스카이렉스1입구',\n",
       "      'signguCode': '11110',\n",
       "      'signguNm': '서울특별시 종로구',\n",
       "      'acdntCo': 8,\n",
       "      'centerX': '127.023405',\n",
       "      'centerY': '37.571802',\n",
       "      'zoneRds': 40},\n",
       "     {'freqocZoneVer': '2021090301',\n",
       "      'freqocZoneId': '1111000005',\n",
       "      'freqocZoneNm': '동양빌딩입구',\n",
       "      'signguCode': '11110',\n",
       "      'signguNm': '서울특별시 종로구',\n",
       "      'acdntCo': 3,\n",
       "      'centerX': '126.969164',\n",
       "      'centerY': '37.568326',\n",
       "      'zoneRds': 40},\n",
       "     {'freqocZoneVer': '2021090301',\n",
       "      'freqocZoneId': '1111000006',\n",
       "      'freqocZoneNm': '충신동',\n",
       "      'signguCode': '11110',\n",
       "      'signguNm': '서울특별시 종로구',\n",
       "      'acdntCo': 4,\n",
       "      'centerX': '127.006619',\n",
       "      'centerY': '37.574140',\n",
       "      'zoneRds': 40},\n",
       "     {'freqocZoneVer': '2021090301',\n",
       "      'freqocZoneId': '1111000007',\n",
       "      'freqocZoneNm': '안국역5번출입구',\n",
       "      'signguCode': '11110',\n",
       "      'signguNm': '서울특별시 종로구',\n",
       "      'acdntCo': 5,\n",
       "      'centerX': '126.986318',\n",
       "      'centerY': '37.576793',\n",
       "      'zoneRds': 40},\n",
       "     {'freqocZoneVer': '2021090301',\n",
       "      'freqocZoneId': '1111000008',\n",
       "      'freqocZoneNm': '스타벅스',\n",
       "      'signguCode': '11110',\n",
       "      'signguNm': '서울특별시 종로구',\n",
       "      'acdntCo': 4,\n",
       "      'centerX': '126.978415',\n",
       "      'centerY': '37.570016',\n",
       "      'zoneRds': 40},\n",
       "     {'freqocZoneVer': '2021090301',\n",
       "      'freqocZoneId': '1111000009',\n",
       "      'freqocZoneNm': '광덕인테리어',\n",
       "      'signguCode': '11110',\n",
       "      'signguNm': '서울특별시 종로구',\n",
       "      'acdntCo': 9,\n",
       "      'centerX': '127.008066',\n",
       "      'centerY': '37.571081',\n",
       "      'zoneRds': 40},\n",
       "     {'freqocZoneVer': '2021090301',\n",
       "      'freqocZoneId': '1111000010',\n",
       "      'freqocZoneNm': '탑골공원화장실',\n",
       "      'signguCode': '11110',\n",
       "      'signguNm': '서울특별시 종로구',\n",
       "      'acdntCo': 6,\n",
       "      'centerX': '126.987880',\n",
       "      'centerY': '37.570319',\n",
       "      'zoneRds': 40}]},\n",
       "   'totalCount': 22,\n",
       "   'numOfRows': 10,\n",
       "   'pageNo': 1}}}"
      ]
     },
     "execution_count": 24,
     "metadata": {},
     "output_type": "execute_result"
    }
   ],
   "source": [
    "soup"
   ]
  },
  {
   "cell_type": "code",
   "execution_count": 25,
   "id": "ad24c577",
   "metadata": {},
   "outputs": [
    {
     "name": "stdout",
     "output_type": "stream",
     "text": [
      "0\n"
     ]
    }
   ],
   "source": [
    "for i in range(len(soup)):\n",
    "    print()"
   ]
  },
  {
   "cell_type": "code",
   "execution_count": null,
   "id": "7aeee4a1",
   "metadata": {},
   "outputs": [],
   "source": []
  },
  {
   "cell_type": "code",
   "execution_count": null,
   "id": "5e0cf47a",
   "metadata": {},
   "outputs": [],
   "source": []
  },
  {
   "cell_type": "code",
   "execution_count": null,
   "id": "bc9a0c07",
   "metadata": {},
   "outputs": [],
   "source": []
  }
 ],
 "metadata": {
  "kernelspec": {
   "display_name": "Python 3 (ipykernel)",
   "language": "python",
   "name": "python3"
  },
  "language_info": {
   "codemirror_mode": {
    "name": "ipython",
    "version": 3
   },
   "file_extension": ".py",
   "mimetype": "text/x-python",
   "name": "python",
   "nbconvert_exporter": "python",
   "pygments_lexer": "ipython3",
   "version": "3.9.12"
  }
 },
 "nbformat": 4,
 "nbformat_minor": 5
}
