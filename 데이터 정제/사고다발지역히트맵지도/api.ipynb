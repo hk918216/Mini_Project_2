{
 "cells": [
  {
   "cell_type": "code",
   "execution_count": 1,
   "id": "e5de3998",
   "metadata": {},
   "outputs": [],
   "source": [
    "from bs4 import BeautifulSoup\n",
    "import requests\n",
    "import json\n",
    "from pandas.io.json import json_normalize"
   ]
  },
  {
   "cell_type": "code",
   "execution_count": 28,
   "id": "146b804e",
   "metadata": {},
   "outputs": [
    {
     "name": "stdout",
     "output_type": "stream",
     "text": [
      "http://apis.data.go.kr/B552468/acdntFreqocZone/getAcdntFreqocZone?serviceKey=cT%2BYkjvIHbeOxm1pvHB%2B00ZWqRmWcBPdjMryZWdGMvWmU%2BqyhRGLJW8y55hv4PgZ%2B8hrkRfn1rcP5hxYUefTlA%3D%3D&numOfRows=100&pageNo=1&signguCode=11545&datatype=json\n"
     ]
    },
    {
     "name": "stderr",
     "output_type": "stream",
     "text": [
      "C:\\Users\\admin\\AppData\\Local\\Temp\\ipykernel_14548\\1399650615.py:48: FutureWarning: pandas.io.json.json_normalize is deprecated, use pandas.json_normalize instead.\n",
      "  dataframe = json_normalize(body)\n"
     ]
    },
    {
     "name": "stdout",
     "output_type": "stream",
     "text": [
      "http://apis.data.go.kr/B552468/acdntFreqocZone/getAcdntFreqocZone?serviceKey=cT%2BYkjvIHbeOxm1pvHB%2B00ZWqRmWcBPdjMryZWdGMvWmU%2BqyhRGLJW8y55hv4PgZ%2B8hrkRfn1rcP5hxYUefTlA%3D%3D&numOfRows=100&pageNo=1&signguCode=11350&datatype=json\n"
     ]
    },
    {
     "name": "stderr",
     "output_type": "stream",
     "text": [
      "C:\\Users\\admin\\AppData\\Local\\Temp\\ipykernel_14548\\1399650615.py:48: FutureWarning: pandas.io.json.json_normalize is deprecated, use pandas.json_normalize instead.\n",
      "  dataframe = json_normalize(body)\n"
     ]
    },
    {
     "name": "stdout",
     "output_type": "stream",
     "text": [
      "http://apis.data.go.kr/B552468/acdntFreqocZone/getAcdntFreqocZone?serviceKey=cT%2BYkjvIHbeOxm1pvHB%2B00ZWqRmWcBPdjMryZWdGMvWmU%2BqyhRGLJW8y55hv4PgZ%2B8hrkRfn1rcP5hxYUefTlA%3D%3D&numOfRows=100&pageNo=1&signguCode=11320&datatype=json\n"
     ]
    },
    {
     "name": "stderr",
     "output_type": "stream",
     "text": [
      "C:\\Users\\admin\\AppData\\Local\\Temp\\ipykernel_14548\\1399650615.py:48: FutureWarning: pandas.io.json.json_normalize is deprecated, use pandas.json_normalize instead.\n",
      "  dataframe = json_normalize(body)\n"
     ]
    },
    {
     "name": "stdout",
     "output_type": "stream",
     "text": [
      "http://apis.data.go.kr/B552468/acdntFreqocZone/getAcdntFreqocZone?serviceKey=cT%2BYkjvIHbeOxm1pvHB%2B00ZWqRmWcBPdjMryZWdGMvWmU%2BqyhRGLJW8y55hv4PgZ%2B8hrkRfn1rcP5hxYUefTlA%3D%3D&numOfRows=100&pageNo=1&signguCode=11230&datatype=json\n"
     ]
    },
    {
     "name": "stderr",
     "output_type": "stream",
     "text": [
      "C:\\Users\\admin\\AppData\\Local\\Temp\\ipykernel_14548\\1399650615.py:48: FutureWarning: pandas.io.json.json_normalize is deprecated, use pandas.json_normalize instead.\n",
      "  dataframe = json_normalize(body)\n"
     ]
    },
    {
     "name": "stdout",
     "output_type": "stream",
     "text": [
      "http://apis.data.go.kr/B552468/acdntFreqocZone/getAcdntFreqocZone?serviceKey=cT%2BYkjvIHbeOxm1pvHB%2B00ZWqRmWcBPdjMryZWdGMvWmU%2BqyhRGLJW8y55hv4PgZ%2B8hrkRfn1rcP5hxYUefTlA%3D%3D&numOfRows=100&pageNo=1&signguCode=11320&datatype=json\n"
     ]
    },
    {
     "name": "stderr",
     "output_type": "stream",
     "text": [
      "C:\\Users\\admin\\AppData\\Local\\Temp\\ipykernel_14548\\1399650615.py:48: FutureWarning: pandas.io.json.json_normalize is deprecated, use pandas.json_normalize instead.\n",
      "  dataframe = json_normalize(body)\n"
     ]
    },
    {
     "name": "stdout",
     "output_type": "stream",
     "text": [
      "http://apis.data.go.kr/B552468/acdntFreqocZone/getAcdntFreqocZone?serviceKey=cT%2BYkjvIHbeOxm1pvHB%2B00ZWqRmWcBPdjMryZWdGMvWmU%2BqyhRGLJW8y55hv4PgZ%2B8hrkRfn1rcP5hxYUefTlA%3D%3D&numOfRows=100&pageNo=1&signguCode=11230&datatype=json\n"
     ]
    },
    {
     "name": "stderr",
     "output_type": "stream",
     "text": [
      "C:\\Users\\admin\\AppData\\Local\\Temp\\ipykernel_14548\\1399650615.py:48: FutureWarning: pandas.io.json.json_normalize is deprecated, use pandas.json_normalize instead.\n",
      "  dataframe = json_normalize(body)\n"
     ]
    },
    {
     "name": "stdout",
     "output_type": "stream",
     "text": [
      "http://apis.data.go.kr/B552468/acdntFreqocZone/getAcdntFreqocZone?serviceKey=cT%2BYkjvIHbeOxm1pvHB%2B00ZWqRmWcBPdjMryZWdGMvWmU%2BqyhRGLJW8y55hv4PgZ%2B8hrkRfn1rcP5hxYUefTlA%3D%3D&numOfRows=100&pageNo=1&signguCode=11590&datatype=json\n"
     ]
    },
    {
     "name": "stderr",
     "output_type": "stream",
     "text": [
      "C:\\Users\\admin\\AppData\\Local\\Temp\\ipykernel_14548\\1399650615.py:48: FutureWarning: pandas.io.json.json_normalize is deprecated, use pandas.json_normalize instead.\n",
      "  dataframe = json_normalize(body)\n"
     ]
    },
    {
     "name": "stdout",
     "output_type": "stream",
     "text": [
      "http://apis.data.go.kr/B552468/acdntFreqocZone/getAcdntFreqocZone?serviceKey=cT%2BYkjvIHbeOxm1pvHB%2B00ZWqRmWcBPdjMryZWdGMvWmU%2BqyhRGLJW8y55hv4PgZ%2B8hrkRfn1rcP5hxYUefTlA%3D%3D&numOfRows=100&pageNo=1&signguCode=11440&datatype=json\n"
     ]
    },
    {
     "name": "stderr",
     "output_type": "stream",
     "text": [
      "C:\\Users\\admin\\AppData\\Local\\Temp\\ipykernel_14548\\1399650615.py:48: FutureWarning: pandas.io.json.json_normalize is deprecated, use pandas.json_normalize instead.\n",
      "  dataframe = json_normalize(body)\n"
     ]
    },
    {
     "name": "stdout",
     "output_type": "stream",
     "text": [
      "http://apis.data.go.kr/B552468/acdntFreqocZone/getAcdntFreqocZone?serviceKey=cT%2BYkjvIHbeOxm1pvHB%2B00ZWqRmWcBPdjMryZWdGMvWmU%2BqyhRGLJW8y55hv4PgZ%2B8hrkRfn1rcP5hxYUefTlA%3D%3D&numOfRows=100&pageNo=1&signguCode=11410&datatype=json\n"
     ]
    },
    {
     "name": "stderr",
     "output_type": "stream",
     "text": [
      "C:\\Users\\admin\\AppData\\Local\\Temp\\ipykernel_14548\\1399650615.py:48: FutureWarning: pandas.io.json.json_normalize is deprecated, use pandas.json_normalize instead.\n",
      "  dataframe = json_normalize(body)\n"
     ]
    },
    {
     "name": "stdout",
     "output_type": "stream",
     "text": [
      "http://apis.data.go.kr/B552468/acdntFreqocZone/getAcdntFreqocZone?serviceKey=cT%2BYkjvIHbeOxm1pvHB%2B00ZWqRmWcBPdjMryZWdGMvWmU%2BqyhRGLJW8y55hv4PgZ%2B8hrkRfn1rcP5hxYUefTlA%3D%3D&numOfRows=100&pageNo=1&signguCode=11650&datatype=json\n"
     ]
    },
    {
     "name": "stderr",
     "output_type": "stream",
     "text": [
      "C:\\Users\\admin\\AppData\\Local\\Temp\\ipykernel_14548\\1399650615.py:48: FutureWarning: pandas.io.json.json_normalize is deprecated, use pandas.json_normalize instead.\n",
      "  dataframe = json_normalize(body)\n"
     ]
    },
    {
     "name": "stdout",
     "output_type": "stream",
     "text": [
      "http://apis.data.go.kr/B552468/acdntFreqocZone/getAcdntFreqocZone?serviceKey=cT%2BYkjvIHbeOxm1pvHB%2B00ZWqRmWcBPdjMryZWdGMvWmU%2BqyhRGLJW8y55hv4PgZ%2B8hrkRfn1rcP5hxYUefTlA%3D%3D&numOfRows=100&pageNo=1&signguCode=11200&datatype=json\n"
     ]
    },
    {
     "name": "stderr",
     "output_type": "stream",
     "text": [
      "C:\\Users\\admin\\AppData\\Local\\Temp\\ipykernel_14548\\1399650615.py:48: FutureWarning: pandas.io.json.json_normalize is deprecated, use pandas.json_normalize instead.\n",
      "  dataframe = json_normalize(body)\n"
     ]
    },
    {
     "name": "stdout",
     "output_type": "stream",
     "text": [
      "http://apis.data.go.kr/B552468/acdntFreqocZone/getAcdntFreqocZone?serviceKey=cT%2BYkjvIHbeOxm1pvHB%2B00ZWqRmWcBPdjMryZWdGMvWmU%2BqyhRGLJW8y55hv4PgZ%2B8hrkRfn1rcP5hxYUefTlA%3D%3D&numOfRows=100&pageNo=1&signguCode=11290&datatype=json\n"
     ]
    },
    {
     "name": "stderr",
     "output_type": "stream",
     "text": [
      "C:\\Users\\admin\\AppData\\Local\\Temp\\ipykernel_14548\\1399650615.py:48: FutureWarning: pandas.io.json.json_normalize is deprecated, use pandas.json_normalize instead.\n",
      "  dataframe = json_normalize(body)\n"
     ]
    }
   ],
   "source": [
    "#http://apis.data.go.kr/B552468/acdntFreqocZone/getAcdntFreqocZone?serviceKey=cT%2BYkjvIHbeOxm1pvHB%2B00ZWqRmWcBPdjMryZWdGMvWmU%2BqyhRGLJW8y55hv4PgZ%2B8hrkRfn1rcP5hxYUefTlA%3D%3D&numOfRows=10&pageNo=1&signguCode=11110&datatype=json\n",
    "\n",
    "import pandas as pd\n",
    "import requests\n",
    "import time\n",
    "\n",
    "\n",
    "apikey = \"cT%2BYkjvIHbeOxm1pvHB%2B00ZWqRmWcBPdjMryZWdGMvWmU%2BqyhRGLJW8y55hv4PgZ%2B8hrkRfn1rcP5hxYUefTlA%3D%3D\"\n",
    "\n",
    "pageNo = 1\n",
    "numOfRows = 100\n",
    "signguCode = ['11545','11350','11320','11230','11320','11230','11590','11440','11410','11650','11200','11290']\n",
    "#'11710','11470','11560','11170','11380','11110','11140','11260']\n",
    "#['11680','11740','11305','11500','11620','11215','11530','11545','11350','11320','11230','11590','11440','11410','11650','11200','11290','11710','11470','11560','11170','11380','11110','11140','11260']\n",
    "datatype = 'json'\n",
    "\n",
    "\n",
    "\n",
    "api = \"http://apis.data.go.kr/B552468/acdntFreqocZone/getAcdntFreqocZone?serviceKey={key}&numOfRows={row}&pageNo={no}&signguCode={sgguCd}&datatype={dtype}\"\n",
    "\n",
    "# f.\"{pageNo}{sidoCd}\"\n",
    "# \"{}{}\".format(pageNo,sidoCd)\n",
    "\n",
    "df = pd.DataFrame()\n",
    "for acode in signguCode :\n",
    "    time.sleep(2)\n",
    "    url = api.format(no=pageNo,\n",
    "                     row=numOfRows,\n",
    "                     sgguCd=acode,\n",
    "                     dtype=datatype,\n",
    "                     key=apikey)\n",
    "\n",
    "\n",
    "    response = requests.get(url)\n",
    "    #print(response.content)\n",
    "    print(url)\n",
    "    re = response.text\n",
    "    soup = BeautifulSoup(re, \"html.parser\")\n",
    "    contents = response.text\n",
    "\n",
    "    json_ob = json.loads(contents) # json을 딕셔너리로\n",
    "    #print(json_ob)\n",
    "\n",
    "\n",
    "    body = json_ob['response']['body']['items']['item']\n",
    "    #print(body)\n",
    "\n",
    "    dataframe = json_normalize(body)\n",
    "    df = pd.concat([df, dataframe])\n",
    "    #dataframe = json_normalize(body)\n",
    "    \n",
    "# url = api.format(no=pageNo,\n",
    "#                  row=numOfRows,\n",
    "#                  sgguCd=signguCode,\n",
    "#                  dtype=datatype,\n",
    "#                  key=apikey)\n",
    "\n",
    "# #response = requests.get(url, params=params)"
   ]
  },
  {
   "cell_type": "code",
   "execution_count": 29,
   "id": "cb09ec61",
   "metadata": {},
   "outputs": [
    {
     "data": {
      "text/html": [
       "<div>\n",
       "<style scoped>\n",
       "    .dataframe tbody tr th:only-of-type {\n",
       "        vertical-align: middle;\n",
       "    }\n",
       "\n",
       "    .dataframe tbody tr th {\n",
       "        vertical-align: top;\n",
       "    }\n",
       "\n",
       "    .dataframe thead th {\n",
       "        text-align: right;\n",
       "    }\n",
       "</style>\n",
       "<table border=\"1\" class=\"dataframe\">\n",
       "  <thead>\n",
       "    <tr style=\"text-align: right;\">\n",
       "      <th></th>\n",
       "      <th>freqocZoneVer</th>\n",
       "      <th>freqocZoneId</th>\n",
       "      <th>freqocZoneNm</th>\n",
       "      <th>signguCode</th>\n",
       "      <th>signguNm</th>\n",
       "      <th>acdntCo</th>\n",
       "      <th>centerX</th>\n",
       "      <th>centerY</th>\n",
       "      <th>zoneRds</th>\n",
       "    </tr>\n",
       "  </thead>\n",
       "  <tbody>\n",
       "    <tr>\n",
       "      <th>0</th>\n",
       "      <td>2021090301</td>\n",
       "      <td>1154500355</td>\n",
       "      <td>베스트마트</td>\n",
       "      <td>11545</td>\n",
       "      <td>서울특별시 금천구</td>\n",
       "      <td>3</td>\n",
       "      <td>126.903142</td>\n",
       "      <td>37.472332</td>\n",
       "      <td>40</td>\n",
       "    </tr>\n",
       "    <tr>\n",
       "      <th>1</th>\n",
       "      <td>2021090301</td>\n",
       "      <td>1154500356</td>\n",
       "      <td>신흥빌딩입구</td>\n",
       "      <td>11545</td>\n",
       "      <td>서울특별시 금천구</td>\n",
       "      <td>7</td>\n",
       "      <td>126.898679</td>\n",
       "      <td>37.477510</td>\n",
       "      <td>40</td>\n",
       "    </tr>\n",
       "    <tr>\n",
       "      <th>2</th>\n",
       "      <td>2021090301</td>\n",
       "      <td>1154500357</td>\n",
       "      <td>엘림데이케어센터</td>\n",
       "      <td>11545</td>\n",
       "      <td>서울특별시 금천구</td>\n",
       "      <td>6</td>\n",
       "      <td>126.901707</td>\n",
       "      <td>37.466493</td>\n",
       "      <td>40</td>\n",
       "    </tr>\n",
       "    <tr>\n",
       "      <th>3</th>\n",
       "      <td>2021090301</td>\n",
       "      <td>1154500358</td>\n",
       "      <td>M모텔</td>\n",
       "      <td>11545</td>\n",
       "      <td>서울특별시 금천구</td>\n",
       "      <td>4</td>\n",
       "      <td>126.903609</td>\n",
       "      <td>37.476282</td>\n",
       "      <td>40</td>\n",
       "    </tr>\n",
       "    <tr>\n",
       "      <th>4</th>\n",
       "      <td>2021090301</td>\n",
       "      <td>1154500359</td>\n",
       "      <td>아마존</td>\n",
       "      <td>11545</td>\n",
       "      <td>서울특별시 금천구</td>\n",
       "      <td>13</td>\n",
       "      <td>126.903998</td>\n",
       "      <td>37.479899</td>\n",
       "      <td>40</td>\n",
       "    </tr>\n",
       "    <tr>\n",
       "      <th>...</th>\n",
       "      <td>...</td>\n",
       "      <td>...</td>\n",
       "      <td>...</td>\n",
       "      <td>...</td>\n",
       "      <td>...</td>\n",
       "      <td>...</td>\n",
       "      <td>...</td>\n",
       "      <td>...</td>\n",
       "      <td>...</td>\n",
       "    </tr>\n",
       "    <tr>\n",
       "      <th>19</th>\n",
       "      <td>2021090301</td>\n",
       "      <td>1129000182</td>\n",
       "      <td>위니아딤채</td>\n",
       "      <td>11290</td>\n",
       "      <td>서울특별시 성북구</td>\n",
       "      <td>8</td>\n",
       "      <td>127.012689</td>\n",
       "      <td>37.591435</td>\n",
       "      <td>40</td>\n",
       "    </tr>\n",
       "    <tr>\n",
       "      <th>20</th>\n",
       "      <td>2021090301</td>\n",
       "      <td>1129000183</td>\n",
       "      <td>제일사</td>\n",
       "      <td>11290</td>\n",
       "      <td>서울특별시 성북구</td>\n",
       "      <td>3</td>\n",
       "      <td>127.021402</td>\n",
       "      <td>37.601773</td>\n",
       "      <td>40</td>\n",
       "    </tr>\n",
       "    <tr>\n",
       "      <th>21</th>\n",
       "      <td>2021090301</td>\n",
       "      <td>1129000184</td>\n",
       "      <td>미니스톱</td>\n",
       "      <td>11290</td>\n",
       "      <td>서울특별시 성북구</td>\n",
       "      <td>11</td>\n",
       "      <td>127.017784</td>\n",
       "      <td>37.593502</td>\n",
       "      <td>40</td>\n",
       "    </tr>\n",
       "    <tr>\n",
       "      <th>22</th>\n",
       "      <td>2021090301</td>\n",
       "      <td>1129000185</td>\n",
       "      <td>들꽃이한의원</td>\n",
       "      <td>11290</td>\n",
       "      <td>서울특별시 성북구</td>\n",
       "      <td>3</td>\n",
       "      <td>127.053216</td>\n",
       "      <td>37.608757</td>\n",
       "      <td>40</td>\n",
       "    </tr>\n",
       "    <tr>\n",
       "      <th>23</th>\n",
       "      <td>2021090301</td>\n",
       "      <td>1129000186</td>\n",
       "      <td>야원빌딩입구</td>\n",
       "      <td>11290</td>\n",
       "      <td>서울특별시 성북구</td>\n",
       "      <td>3</td>\n",
       "      <td>127.009871</td>\n",
       "      <td>37.608350</td>\n",
       "      <td>40</td>\n",
       "    </tr>\n",
       "  </tbody>\n",
       "</table>\n",
       "<p>245 rows × 9 columns</p>\n",
       "</div>"
      ],
      "text/plain": [
       "   freqocZoneVer freqocZoneId freqocZoneNm signguCode   signguNm  acdntCo  \\\n",
       "0     2021090301   1154500355        베스트마트      11545  서울특별시 금천구        3   \n",
       "1     2021090301   1154500356       신흥빌딩입구      11545  서울특별시 금천구        7   \n",
       "2     2021090301   1154500357     엘림데이케어센터      11545  서울특별시 금천구        6   \n",
       "3     2021090301   1154500358          M모텔      11545  서울특별시 금천구        4   \n",
       "4     2021090301   1154500359          아마존      11545  서울특별시 금천구       13   \n",
       "..           ...          ...          ...        ...        ...      ...   \n",
       "19    2021090301   1129000182        위니아딤채      11290  서울특별시 성북구        8   \n",
       "20    2021090301   1129000183          제일사      11290  서울특별시 성북구        3   \n",
       "21    2021090301   1129000184         미니스톱      11290  서울특별시 성북구       11   \n",
       "22    2021090301   1129000185       들꽃이한의원      11290  서울특별시 성북구        3   \n",
       "23    2021090301   1129000186       야원빌딩입구      11290  서울특별시 성북구        3   \n",
       "\n",
       "       centerX    centerY  zoneRds  \n",
       "0   126.903142  37.472332       40  \n",
       "1   126.898679  37.477510       40  \n",
       "2   126.901707  37.466493       40  \n",
       "3   126.903609  37.476282       40  \n",
       "4   126.903998  37.479899       40  \n",
       "..         ...        ...      ...  \n",
       "19  127.012689  37.591435       40  \n",
       "20  127.021402  37.601773       40  \n",
       "21  127.017784  37.593502       40  \n",
       "22  127.053216  37.608757       40  \n",
       "23  127.009871  37.608350       40  \n",
       "\n",
       "[245 rows x 9 columns]"
      ]
     },
     "execution_count": 29,
     "metadata": {},
     "output_type": "execute_result"
    }
   ],
   "source": [
    "df"
   ]
  },
  {
   "cell_type": "code",
   "execution_count": 30,
   "id": "0465de8a",
   "metadata": {},
   "outputs": [],
   "source": [
    "df.to_csv('C:/Users/admin/STUDY/미니프로젝트2/배달대행/minidata/혜경_최최최종.csv')"
   ]
  }
 ],
 "metadata": {
  "kernelspec": {
   "display_name": "Python 3 (ipykernel)",
   "language": "python",
   "name": "python3"
  },
  "language_info": {
   "codemirror_mode": {
    "name": "ipython",
    "version": 3
   },
   "file_extension": ".py",
   "mimetype": "text/x-python",
   "name": "python",
   "nbconvert_exporter": "python",
   "pygments_lexer": "ipython3",
   "version": "3.9.12"
  }
 },
 "nbformat": 4,
 "nbformat_minor": 5
}
